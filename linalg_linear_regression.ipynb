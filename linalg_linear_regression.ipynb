{
 "cells": [
  {
   "cell_type": "markdown",
   "metadata": {},
   "source": [
    "# Linear regression"
   ]
  },
  {
   "cell_type": "markdown",
   "metadata": {},
   "source": [
    "## Linear algebra formulation\n",
    "\n",
    "### Projection matrices\n",
    "\n",
    "A little detour on deriving projection matrices.\n",
    "\n",
    "#### Why projecting onto subspaces?\n",
    "\n",
    "The equation system $Ax = b$ might not have a solution, but there exists a _p_ so that $Ax=p$ is solvable. And (this is the key) I want _p_ to be the closest vector to the original vector _b_ !.\n",
    "\n",
    "#### Finding the projection matrix\n",
    "\n",
    "I will project a vector b to a subpace spanned by the columns of a matrix A. That is, its projection _p_, will be in the column space of A.\n",
    "\n",
    "The key point is that, because we want the closest projected vector _p_ to _b_, _p_ has to be perpendicular to the column space of A.\n",
    "\n",
    "__Note__: Multiplying _A_ with _b_ ($Ab=\\hat{p}$) will successfully project _b_ onto the column space of _A_ (by definition), but that resulting vector $\\hat{p}$ will not necessarily suffice our condition that it must be perpendicular to the plane!! And thus, it would be incorrect to think that $Ab=p$.\n",
    "\n",
    "Graphically (notice the place, the vector _b_, the vector _p_, and the error vector _e_):\n",
    "<img src='img/linalg_projection_matrix.png' />\n",
    "\n",
    "With this in mind, the projection will be some multiple of the columns of the matrix _A_: $Ax=p$.\n",
    "\n",
    "By definition, then, the error vector will be $e = b - p = b - Ax$.\n",
    "\n",
    "And, by _our_ definition, the error vector will be perpendicular to the plane (that is, perpendicular to the columns of _A_), and so:\n",
    "\n",
    "$$\n",
    "A^T e = 0 \\Rightarrow A^T (b-p) = 0 \\Rightarrow A^T (b - Ax) \\Rightarrow A^T b = A^T A x\n",
    "$$\n",
    "\n",
    "From which we can conclude that:\n",
    "1. The vector _x_ (multiple of the columns of A) is:\n",
    "$$\n",
    "x = (A^T A) ^{-1} A^T b\n",
    "$$\n",
    "2. The projection $Ax$ is then:\n",
    "$$\n",
    "p = Ax = A (A^T A) ^{-1} A^T b\n",
    "$$\n",
    "3. And from the previous point, the projection matrix is (what is multiplying the original vector _b_):\n",
    "$$\n",
    "A (A^T A) ^{-1} A^T\n",
    "$$\n",
    "\n",
    "#### Properties of projection matrices\n",
    "1. Projection matrices are symmetric: $P^T = P$\n",
    "2. $P^2 = P$\n",
    "\n",
    "\n",
    "### Linear Regression\n",
    "\n",
    "Suppose we wanna fit a line to the following datapoints $[(1,1), (2,2), (3,2)]$. That system of equations has no solution. Instead, we want to find the _best line_, that is, the line that minimizes the error made for each datapoint; and we know those best projections (the ones that minimize the distance to the original points), are given by the projection matrix we saw in the previous section.\n",
    "\n",
    "The line will have an equation $y = cx + d$. Formulating the problem in a linear algebra way, we have:\n",
    "$$\n",
    "A x = b \\Rightarrow\n",
    "\\begin{bmatrix}\n",
    "1 & 1 \\\\\n",
    "2 & 1 \\\\\n",
    "3 & 1\n",
    "\\end{bmatrix}\n",
    "\\begin{bmatrix}\n",
    "c \\\\\n",
    "d\n",
    "\\end{bmatrix}\n",
    "=\n",
    "\\begin{bmatrix}\n",
    "1 \\\\\n",
    "2 \\\\\n",
    "2\n",
    "\\end{bmatrix}\n",
    "$$\n",
    "\n",
    "As said before, there is no such $x=[c,d]$, and instead we will find $\\hat{x}=[\\hat{c}, \\hat{d}]$ such that $A \\hat{x} = p$ (with $b-p = [b_1, b_2, b_3] - [p_1, p_2, p_3]$ being ortogonal vectors to the columns space of _A_).\n",
    "\n",
    "Finally, we solve this issue of finding the params [c, d] of the best line, by stating the projection matrix formula for $\\hat{x}$ and solving:\n",
    "$$\n",
    "\\hat{x} =\n",
    "\\begin{bmatrix}\n",
    "\\hat{c} & \\hat{d}\n",
    "\\end{bmatrix}\n",
    "= (A^T A)^{-1} A^T b\n",
    "$$"
   ]
  },
  {
   "cell_type": "code",
   "execution_count": 102,
   "metadata": {},
   "outputs": [
    {
     "name": "stdout",
     "output_type": "stream",
     "text": [
      "x_hat = [ 0.5         0.66666667]\n"
     ]
    },
    {
     "data": {
      "image/png": "[encoded data removed]",
      "text/plain": [
       "<matplotlib.figure.Figure at 0x7f19059d16d8>"
      ]
     },
     "metadata": {},
     "output_type": "display_data"
    }
   ],
   "source": [
    "%matplotlib inline\n",
    "import numpy as np\n",
    "import matplotlib.pyplot as plt\n",
    "import seaborn as sns\n",
    "\n",
    "A = np.array([[1,1],[2,1], [3,1]], dtype=np.float)\n",
    "b = np.array([1,2,2], dtype=np.float)\n",
    "x_hat = np.linalg.inv(A.T.dot(A)).dot(A.T.dot(b))\n",
    "print('x_hat =', x_hat)\n",
    "\n",
    "fig = plt.figure()\n",
    "ax = fig.add_subplot(1,1,1)\n",
    "ax.scatter(x=A[:,0], y=b, label='Original points')\n",
    "ax.plot(A[:,0], np.dot(A, x_hat), c='r', label='Best fit')\n",
    "ax.legend()\n",
    "ax.set_xticks([1., 2., 3.])\n",
    "ax.set_yticks([1., 2., 2.])\n",
    "ax.set_ylim((0,3))\n",
    "ax.set_xlim((0,4));"
   ]
  }
 ],
 "metadata": {
  "kernelspec": {
   "display_name": "Python 3",
   "language": "python",
   "name": "python3"
  },
  "language_info": {
   "codemirror_mode": {
    "name": "ipython",
    "version": 3
   },
   "file_extension": ".py",
   "mimetype": "text/x-python",
   "name": "python",
   "nbconvert_exporter": "python",
   "pygments_lexer": "ipython3",
   "version": "3.5.2"
  }
 },
 "nbformat": 4,
 "nbformat_minor": 2
}
