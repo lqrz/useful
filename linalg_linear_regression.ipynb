{
 "cells": [
  {
   "cell_type": "markdown",
   "metadata": {},
   "source": [
    "# Linear regression"
   ]
  },
  {
   "cell_type": "markdown",
   "metadata": {},
   "source": [
    "## Linear algebra formulation\n",
    "\n",
    "### Projection matrices\n",
    "\n",
    "A little detour on deriving projection matrices.\n",
    "\n",
    "#### Why projecting onto subspaces?\n",
    "\n",
    "The equation system $Ax = b$ might not have a solution, but there exists a _p_ so that $Ax=p$ is solvable. And (this is the key) I want _p_ to be the closest vector to the original vector _b_ !.\n",
    "\n",
    "#### Finding the projection matrix\n",
    "\n",
    "I will project a vector b to a subpace spanned by the columns of a matrix A. That is, its projection _p_, will be in the column space of A.\n",
    "\n",
    "The key point is that, because we want the closest projected vector _p_ to _b_, _p_ has to be perpendicular to the column space of A.\n",
    "\n",
    "__Note__: Multiplying _A_ with _b_ ($Ab=\\hat{p}$) will successfully project _b_ onto the column space of _A_ (by definition), but that resulting vector $\\hat{p}$ will not necessarily suffice our condition that it must be perpendicular to the plane!! And thus, it would be incorrect to think that $Ab=p$.\n",
    "\n",
    "Graphically (notice the place, the vector _b_, the vector _p_, and the error vector _e_):\n",
    "<img src='img/linalg_projection_matrix.png' />\n",
    "\n",
    "With this in mind, the projection will be some multiple of the columns of the matrix _A_: $Ax=p$.\n",
    "\n",
    "By definition, then, the error vector will be $e = b - p = b - Ax$.\n",
    "\n",
    "And, by _our_ definition, the error vector will be perpendicular to the plane (that is, perpendicular to the columns of _A_), and so:\n",
    "\n",
    "$$\n",
    "A^T e = 0 \\Rightarrow A^T (b-p) = 0 \\Rightarrow A^T (b - Ax) \\Rightarrow A^T b = A^T A x\n",
    "$$\n",
    "\n",
    "From which we can conclude that:\n",
    "1. The vector _x_ (multiple of the columns of A) is:\n",
    "$$\n",
    "x = (A^T A) ^{-1} A^T b\n",
    "$$\n",
    "2. The projection $Ax$ is then:\n",
    "$$\n",
    "p = Ax = A (A^T A) ^{-1} A^T b\n",
    "$$\n",
    "3. And from the previous point, the projection matrix is (what is multiplying the original vector _b_):\n",
    "$$\n",
    "A (A^T A) ^{-1} A^T\n",
    "$$\n",
    "\n",
    "#### Properties of projection matrices\n",
    "1. Projection matrices are symmetric: $P^T = P$\n",
    "2. $P^2 = P$"
   ]
  }
 ],
 "metadata": {
  "kernelspec": {
   "display_name": "Python 3",
   "language": "python",
   "name": "python3"
  },
  "language_info": {
   "codemirror_mode": {
    "name": "ipython",
    "version": 3
   },
   "file_extension": ".py",
   "mimetype": "text/x-python",
   "name": "python",
   "nbconvert_exporter": "python",
   "pygments_lexer": "ipython3",
   "version": "3.5.2"
  }
 },
 "nbformat": 4,
 "nbformat_minor": 2
}
