{
 "cells": [
  {
   "cell_type": "markdown",
   "metadata": {},
   "source": [
    "# Simulation"
   ]
  },
  {
   "cell_type": "markdown",
   "metadata": {},
   "source": [
    "Sometimes, computing statistcs analytically is feasible and simple, such as the mean of random variables in the interval [0,1] (which is 0.5). But some other times, computing by simulation is better; namely, generating a large enough sample set and then compute the statistics on these values.\n",
    "\n",
    "In a general form, simulations can be used to shed light on how complicated a system is even if detailed information is not available.\n",
    "\n",
    "Because simulation introduces randomness in the process, it is called _Monte Carlo analysis_."
   ]
  },
  {
   "cell_type": "markdown",
   "metadata": {},
   "source": [
    "### Example: Distribution mean"
   ]
  },
  {
   "cell_type": "code",
   "execution_count": 43,
   "metadata": {},
   "outputs": [
    {
     "name": "stdout",
     "output_type": "stream",
     "text": [
      "Nr of samples used: 100 Estimated mean: 0.490 \n",
      "Nr of samples used: 1000 Estimated mean: 0.535 \n",
      "Nr of samples used: 10000 Estimated mean: 0.501 \n",
      "Nr of samples used: 100000 Estimated mean: 0.500 \n"
     ]
    }
   ],
   "source": [
    "import numpy as np\n",
    "np.random.seed(1234)\n",
    "for n_samples in [100, 1000, 10000, 100000]:\n",
    "    print('Nr of samples used: %d Estimated mean: %1.3f ' % (n_samples, np.mean(np.random.randint(0, 2, size=n_samples))))"
   ]
  },
  {
   "cell_type": "markdown",
   "metadata": {},
   "source": [
    "## Uncertainty in simulations\n",
    "\n",
    "Because we are calculating these values from point estimators, we also need to show how certain we are about them (a measure of their variability)."
   ]
  }
 ],
 "metadata": {
  "kernelspec": {
   "display_name": "Python 3",
   "language": "python",
   "name": "python3"
  },
  "language_info": {
   "codemirror_mode": {
    "name": "ipython",
    "version": 3
   },
   "file_extension": ".py",
   "mimetype": "text/x-python",
   "name": "python",
   "nbconvert_exporter": "python",
   "pygments_lexer": "ipython3",
   "version": "3.5.2"
  }
 },
 "nbformat": 4,
 "nbformat_minor": 2
}
