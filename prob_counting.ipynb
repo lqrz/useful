{
 "cells": [
  {
   "cell_type": "markdown",
   "metadata": {},
   "source": [
    "# Counting\n",
    "\n",
    "when every item has the same probability of ocurring... just count!"
   ]
  },
  {
   "cell_type": "markdown",
   "metadata": {},
   "source": [
    "## Permutations\n",
    "\n",
    "### With replacement\n",
    "The formula for _n_ elements and _k_ positions:\n",
    "$$\n",
    "n^k\n",
    "$$\n",
    "\n",
    "#### Example\n",
    "In how many ways can we divide _n_ elements into two subsets?\n",
    "For each element I have two options where to place it, so, the total number of subsets is: 2^n\n",
    "\n",
    "### Without replacement\n",
    "\n",
    "Number of ways of reordering a set of elements without replacement:\n",
    "$$\n",
    "n!\n",
    "$$\n",
    "\n",
    "\n",
    "### Permutations taken by _k_\n",
    "Number of ways of reordering _n_ elements taken by _k_, where __order matters__ (e.g. \"ab\" != \"ba):\n",
    "$$\n",
    "_n P _k = \\frac{n!}{(n-k)!}\n",
    "$$"
   ]
  },
  {
   "cell_type": "markdown",
   "metadata": {},
   "source": [
    "## Combinations\n",
    "\n",
    "Number of ways of reordering _n_ elements taken by _k_, where the __order does not matter__ (e.g. \"ab\" = \"ba\"):\n",
    "$$\n",
    "_n C _k = \\binom{n}{k} = \\frac{n!}{k! (n-k)!}\n",
    "$$\n",
    "\n",
    "It is the same case as the permutation, but this time we need to get rid of the overcounting due to the groups with same elements (\"ab\" will be overcounted as \"ba\"). We do that by dividing by $k!$.\n",
    "\n",
    "### Example\n",
    "Probability of a full house in poker, with a 5-hand card.\n",
    "\n",
    "I need to have 3 equal cards out of the 4 possible cards for the total 13 distinct cards in the maze. Then, I need 2 equal cards out of the 4 possible ones of the remaining 12 cards (cannot be the one I picked first).\n",
    "$$\n",
    "\\frac{13 \\binom{4}{3} 12 \\binom{4}{2}}{\\binom{52}{5}}\n",
    "$$\n",
    "\n",
    "### Example: Interesting\n",
    "There are 10 people, in how many ways can they be split into a team of 4 and a team of 6:\n",
    "$$\n",
    "\\binom{10}{4} = \\binom{10}{6}\n",
    "$$\n",
    "\n",
    "But, if I now say, in how many ways can they be split into two teams of 5:\n",
    "$$\n",
    "\\frac{\\binom{10}{5}}{2}\n",
    "$$\n",
    "Only doing $\\binom{10}{5}$ is gonna be doble counting: the team $[(1...5), (6...10)]$ and the $[(6...10), (1...5)]$ team imply the same split!"
   ]
  },
  {
   "cell_type": "markdown",
   "metadata": {},
   "source": [
    "### Example: More interesting\n",
    "\n",
    "In how many ways can I arrange _n_ items, taken by _k_, with replacement, if order does not matter.\n",
    "\n",
    "I can think of it as having _n_ boxes, in which im gonna distribute _k_ dots (one dot in the box every time I select that item). Then, rethink it as dots and bars, and reframe the question as, in how many ways can I reorder those bars (or dots) if order doesnt matter (example with $n=3$ and $k=4$):"
   ]
  },
  {
   "cell_type": "code",
   "execution_count": 29,
   "metadata": {},
   "outputs": [
    {
     "data": {
      "text/html": [
       "<table><tr><td style=\"border-style: solid; width: 3em; text-align: center;\" >...</td><td style=\"border-style: solid; width: 3em; text-align: center;\"></td><td style=\"border-style: solid; width: 3em; text-align: center;\">.</td></tr></table>"
      ],
      "text/plain": [
       "<IPython.core.display.HTML object>"
      ]
     },
     "metadata": {},
     "output_type": "display_data"
    }
   ],
   "source": [
    "from IPython.display import HTML, display\n",
    "\n",
    "data = [['...','','.']]\n",
    "\n",
    "display(HTML(\n",
    "'<table>' +\\\n",
    " '<tr>' +\\\n",
    " '<td style=\"border-style: solid; width: 3em; text-align: center;\" >' + '...' + '</td>' +\\\n",
    " '<td style=\"border-style: solid; width: 3em; text-align: center;\">' + '' + '</td>' +\\\n",
    " '<td style=\"border-style: solid; width: 3em; text-align: center;\">' + '.' + '</td>' +\\\n",
    " '</tr>' +\\\n",
    "'</table>'\n",
    "))"
   ]
  },
  {
   "cell_type": "markdown",
   "metadata": {},
   "source": [
    "In dots and bars, this is equivalent to:\n",
    "$$\n",
    "\\text{... |   | .}\n",
    "$$\n",
    "\n",
    "That is, Im gonna have _k_ dots, and $(n-1)$ bars. Thus, the possible ways of reordering the bars or dots is:\n",
    "$$\n",
    "\\binom{k+n-1}{n-1} = \\binom{k+n-1}{k}\n",
    "$$"
   ]
  }
 ],
 "metadata": {
  "kernelspec": {
   "display_name": "Python 3",
   "language": "python",
   "name": "python3"
  },
  "language_info": {
   "codemirror_mode": {
    "name": "ipython",
    "version": 3
   },
   "file_extension": ".py",
   "mimetype": "text/x-python",
   "name": "python",
   "nbconvert_exporter": "python",
   "pygments_lexer": "ipython3",
   "version": "3.5.2"
  }
 },
 "nbformat": 4,
 "nbformat_minor": 2
}
