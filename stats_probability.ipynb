{
 "cells": [
  {
   "cell_type": "markdown",
   "metadata": {},
   "source": [
    "# Probability"
   ]
  },
  {
   "cell_type": "markdown",
   "metadata": {},
   "source": [
    "## Strong law of large numbers and Central limit theorem\n",
    "\n",
    "Both theorems describe what happens to the sample mean when $n$ gets large (actually, goes to infinity).\n",
    "\n",
    "We are assuming $X_1, X_2, ..., X_n$ are i.i.d random variables with a finite $\\mu$ and $\\sigma^2$.\n",
    "\n",
    "### Strong law of large numbers\n",
    "\n",
    "The law of large number says the following: $\\bar{X_n} \\rightarrow \\mu$, with probability $1$.\n",
    "\n",
    "That is, the sample mean converges to $\\mu$ (the true mean, the true expected value) with probability $1$.\n",
    "\n",
    "#### Weak law of large numbers\n",
    "\n",
    "The aforementioned theorem is called the _Strong law of large numbers_, there is a _Weak law of large numbers_ that states: $P(|\\bar{X_n} - \\mu| > c) \\rightarrow 0$, for any $c \\gt 0$, as $n \\rightarrow \\infty$.\n",
    "\n",
    "#### Gambler's fallacy\n",
    "Example: you are flipping a coin, and it is landing heads (H-H-H) all the time, and because of the law of large numbers, you know that, in the long run, the probability of landing heads will be $0.5$, so you expect to get a lot of consecutive tails in the following tries and you change your bets to getting tails.\n",
    "\n",
    "That's totally not how it works... the coin is memory-less. The law of the large numbers works on the infinity, so, no matter how many times you are getting heads, it will be nothing compared against flipping the coin an infinite amount of times (swamp down).\n",
    "\n",
    "## Central limit theorem\n",
    "\n",
    "The strong law of large numbers states that $\\bar{X_n}$ will be equal to $\\mu$ (as $n \\rightarrow \\infty$), but it does not say anything about the distribution of $\\bar{X}$, nor how fast does $\\bar{X}$ gets close to $\\mu$.\n",
    "\n",
    "The central limit theorem says that the distribution of $n^\\frac{1}{2}\\frac{(\\bar{X} - \\mu)}{\\sigma}$ converges to a standard normal when $n \\rightarrow \\infty$.\n",
    "\n",
    "Though the theorem works thinking of $n$ going to $\\infty$, in practice, we use it for when $n$ is only a small set."
   ]
  }
 ],
 "metadata": {
  "kernelspec": {
   "display_name": "Python 3",
   "language": "python",
   "name": "python3"
  },
  "language_info": {
   "codemirror_mode": {
    "name": "ipython",
    "version": 3
   },
   "file_extension": ".py",
   "mimetype": "text/x-python",
   "name": "python",
   "nbconvert_exporter": "python",
   "pygments_lexer": "ipython3",
   "version": "3.5.2"
  }
 },
 "nbformat": 4,
 "nbformat_minor": 2
}
