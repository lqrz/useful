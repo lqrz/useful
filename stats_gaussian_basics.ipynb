{
 "cells": [
  {
   "cell_type": "markdown",
   "metadata": {},
   "source": [
    "# The Gaussian distribution\n",
    "\n",
    "Ref: http://cs229.stanford.edu/section/more_on_gaussians.pdf"
   ]
  },
  {
   "cell_type": "markdown",
   "metadata": {},
   "source": [
    "If vector $x$ is normally distributed, then:\n",
    "\n",
    "$$\n",
    "x \\sim N(\\mu, \\Sigma) \\Rightarrow p(x;\\mu,\\Sigma) = \\frac{1}{(2\\pi)^{\\frac{d}{2}}|\\Sigma|^\\frac{1}{2}} \\exp (-\\frac{1}{2} (x - \\mu)^T \\Sigma^{-1} (x - \\mu))\n",
    "$$"
   ]
  },
  {
   "cell_type": "markdown",
   "metadata": {},
   "source": [
    "## 1. The sum of independent Gaussian random variables is Gaussian\n",
    "\n",
    "If:\n",
    "\n",
    "$$\n",
    "x \\sim N(\\mu_1, \\Sigma_1)\n",
    "$$\n",
    "$$\n",
    "y \\sim N(\\mu_2, \\Sigma_2)\n",
    "$$\n",
    "\n",
    "then\n",
    "$$\n",
    "x+y \\sim N(\\mu_1 + \\mu_2, \\Sigma_1 + \\Sigma_2)\n",
    "$$"
   ]
  },
  {
   "cell_type": "markdown",
   "metadata": {},
   "source": [
    "## 2. The marginal of a joint Gaussian is Gaussian\n",
    "\n",
    "Suppose that:\n",
    "\n",
    "$$\n",
    "\\begin{bmatrix}\n",
    "    X_a \\\\\n",
    "    X_b\n",
    "\\end{bmatrix}\n",
    "\\sim\n",
    "N(\n",
    "\\begin{bmatrix}\n",
    "    \\mu_a \\\\\n",
    "    \\mu_b\n",
    "\\end{bmatrix}\n",
    ",\n",
    "\\begin{bmatrix}\n",
    "    \\Sigma_{aa} & \\Sigma_{ab} \\\\\n",
    "    \\Sigma_{ba} & \\Sigma_{bb}\n",
    "\\end{bmatrix}\n",
    ")\n",
    "$$\n",
    "\n",
    "then:\n",
    "\n",
    "$$\n",
    "X_a \\sim N(\\mu_a, \\Sigma_{aa})\n",
    "$$\n",
    "$$\n",
    "X_b \\sim N(\\mu_b, \\Sigma_{bb})\n",
    "$$"
   ]
  },
  {
   "cell_type": "markdown",
   "metadata": {},
   "source": [
    "## 3. Gaussian conditionals are also Gaussians\n",
    "\n",
    "If we have $X=(X_1, X_2)$ which is a joint Gaussian, then the conditional of that distribution will also be Gaussian!\n",
    "\n",
    "Let:\n",
    "\n",
    "$$\n",
    "X = \n",
    "\\begin{bmatrix}\n",
    "    X_a \\\\\n",
    "    X_b\n",
    "\\end{bmatrix}\n",
    ",\n",
    "X_a =\n",
    "\\begin{bmatrix}\n",
    "    X_1 & ... & X_k\n",
    "\\end{bmatrix}\n",
    ",\n",
    "X_b = \n",
    "\\begin{bmatrix}\n",
    "    X_{k+1} & ... & X_n\n",
    "\\end{bmatrix}\n",
    "$$\n",
    "\n",
    "then:\n",
    "\n",
    "$$\n",
    "(X_a|X_b = x_b) \\sim N(\\mu_a + \\Sigma_{ab} \\times \\Sigma_{bb}^{-1} \\times (x_b - \\mu_b), \\Sigma_{aa} - \\Sigma_{ab} \\times \\Sigma_{bb}^{-1} \\times \\Sigma_{ba})\n",
    "$$"
   ]
  }
 ],
 "metadata": {
  "kernelspec": {
   "display_name": "Python 3",
   "language": "python",
   "name": "python3"
  },
  "language_info": {
   "codemirror_mode": {
    "name": "ipython",
    "version": 3
   },
   "file_extension": ".py",
   "mimetype": "text/x-python",
   "name": "python",
   "nbconvert_exporter": "python",
   "pygments_lexer": "ipython3",
   "version": "3.5.2"
  }
 },
 "nbformat": 4,
 "nbformat_minor": 2
}
