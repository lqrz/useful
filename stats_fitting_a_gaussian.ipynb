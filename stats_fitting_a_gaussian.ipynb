{
 "cells": [
  {
   "cell_type": "markdown",
   "metadata": {},
   "source": [
    "# Fitting a Gaussian"
   ]
  },
  {
   "cell_type": "markdown",
   "metadata": {},
   "source": [
    "## Univariate Gaussian\n",
    "\n",
    "Univariate Gaussian formula:\n",
    "$$\n",
    "N = \\frac{1}{\\sqrt{2\\pi\\sigma^2}}\\exp(-\\frac{1}{2\\sigma^2}(x-\\mu)^2)\n",
    "$$\n",
    "\n",
    "Likelihood function:\n",
    "$$\n",
    "L = \\prod^n N = \\prod^n \\frac{1}{\\sqrt{2\\pi\\sigma^2}}\\exp(-\\frac{1}{2\\sigma^2}(x-\\mu)^2) \\Rightarrow \\\\\n",
    "\\Rightarrow \\log(L) = \\sum^n \\log(\\frac{1}{\\sqrt{2\\pi\\sigma^2}}) -\\frac{1}{2\\sigma^2}(x-\\mu)^2\n",
    "$$\n",
    "\n",
    "### Parameter estimation\n",
    "1. MLE:  $\\mu$\n",
    "$$\n",
    "\\frac{\\partial \\log(L)}{\\partial \\mu} = 0 \\Rightarrow \\\\\n",
    "\\Rightarrow \\sum^n \\frac{1}{2 \\sigma^2} 2 (x_i - \\mu) = 0 \\Rightarrow \\\\\n",
    "\\Rightarrow \\sum^n \\frac{x_i}{\\sigma^2} = \\frac{n \\mu}{\\sigma^2} \\Rightarrow \\\\\n",
    "\\Rightarrow \\mu = \\frac{1}{n} \\sum^n x_i \n",
    "$$\n",
    "\n",
    "2. MLE: $\\sigma^2$\n",
    "$$\n",
    "\\frac{\\partial \\log(L)}{\\partial \\sigma^2} = 0 \\Rightarrow \\\\\n",
    "\\Rightarrow \\sum^n \\sqrt{2 \\pi \\sigma^2} (-1) \\frac{1}{\\sqrt{2 \\pi \\sigma^2}} 2 \\pi \\frac{1}{2} (2 \\pi \\sigma^2)^{-\\frac{1}{2}} - (x - \\mu)^2 \\frac{1}{2} (-1) \\frac{1}{\\sigma^4} = 0 \\Rightarrow \\\\\n",
    "\\Rightarrow \\sum^n - \\frac{1}{2\\sigma^2} + \\frac{1}{2\\sigma^4}(x-\\mu)^2 = 0 \\Rightarrow \\\\\n",
    "\\Rightarrow \\sum^n \\frac{1}{2\\sigma^4} (x-\\mu)^2 = \\frac{n}{2\\sigma^2} \\Rightarrow \\\\\n",
    "\\Rightarrow \\sigma^2 = \\frac{1}{n} \\sum^n (x-\\mu)^2\n",
    "$$"
   ]
  },
  {
   "cell_type": "markdown",
   "metadata": {},
   "source": [
    "## Multivariate Gaussian\n",
    "\n",
    "Multivariate Gaussian formula:\n",
    "$$\n",
    "N = \\frac{1}{(2\\pi)^\\frac{n}{2} |\\Sigma|^\\frac{1}{2}} exp(-\\frac{1}{2} (x - \\mu)^T \\Sigma^{-1}  (x - \\mu))\n",
    "$$\n",
    "\n",
    "\n",
    "Likelihood function:\n",
    "$$\n",
    "L = \\prod^n N = \\prod^n \\frac{1}{(2\\pi)^\\frac{n}{2} |\\Sigma|^\\frac{1}{2}} exp(-\\frac{1}{2} (x - \\mu)^T \\Sigma^{-1}  (x - \\mu)) \\Rightarrow \\\\\n",
    "\\Rightarrow \\sum^n \\log(\\frac{1}{(2\\pi)^\\frac{n}{2} |\\Sigma|^\\frac{1}{2}}) - \\frac{1}{2} (x - \\mu)^T \\Sigma^{-1}  (x - \\mu) \\Rightarrow\n",
    "$$\n",
    "\n",
    "### Quadratic forms\n",
    "Ref: https://www.khanacademy.org/math/multivariable-calculus/applications-of-multivariable-derivatives/quadratic-approximations/v/expressing-a-quadratic-form-with-a-matrix\n",
    "\n",
    "We know that a term is _quadratic_ when its variable is squared, or we have two variables. When all terms in a formula are quadratic (that is, it is purely quadratic), we dubbed it a _quadratic form_: $ax^2 + bxy + cy^2$\n",
    "\n",
    "We can write a formula like $ax + by + cz$ in vector form as: $a^T x$, where:\n",
    "\n",
    "$$\n",
    "\\begin{bmatrix}\n",
    "    a & b & c\n",
    "\\end{bmatrix}\n",
    "\\begin{bmatrix}\n",
    "    x \\\\\n",
    "    y \\\\\n",
    "    z\n",
    "\\end{bmatrix}\n",
    "=\n",
    "ax + by + cz\n",
    "$$\n",
    "\n",
    "Then, a quadratic form like $ax^2 + bxy + cy^2$, if we think of $b$ as $2b$ (we can express $b$ whichever way we want), as: $x^T A x$, where:\n",
    "\n",
    "$$\n",
    "\\begin{bmatrix}\n",
    "    x & y\n",
    "\\end{bmatrix}\n",
    "\\begin{bmatrix}\n",
    "    a & b \\\\\n",
    "    b & c\n",
    "\\end{bmatrix}\n",
    "\\begin{bmatrix}\n",
    "    x \\\\\n",
    "    y\n",
    "\\end{bmatrix}\n",
    "=\n",
    "\\begin{bmatrix}\n",
    "    x & y\n",
    "\\end{bmatrix}\n",
    "\\begin{bmatrix}\n",
    "    ax + by \\\\\n",
    "    xb + cy\n",
    "\\end{bmatrix}\n",
    "=\n",
    "ax^2 + byx + xby + cy^2\n",
    "=\n",
    "ax^2 + 2bxy + cy^2\n",
    "$$\n",
    "\n",
    "### Parameter estimation\n",
    "\n",
    "1. MLE: $\\mu$\n",
    "\n",
    "From the cookbook, we know that:\n",
    "$$\n",
    "\\frac{\\partial}{\\partial{s}} (x - s)^T W (x - s) = -2 W (x - s) \n",
    "$$\n",
    "\n",
    "Applying it, then:\n",
    "$$\n",
    "- \\frac{1}{2} \\sum^n (-2) \\Sigma^{-1} (x_i - \\mu) = 0 \\Rightarrow \\\\\n",
    "\\Rightarrow \\sum^n \\Sigma^{-1} x_i = n \\Sigma^{-1} \\mu \\Rightarrow \\\\\n",
    "\\Rightarrow \\mu = \\frac{1}{n} \\sum^n x_i\n",
    "$$\n",
    "\n",
    "2. MLE: $\\Sigma$\n",
    "\n",
    "Ref: https://people.eecs.berkeley.edu/~jordan/courses/260-spring10/other-readings/chapter13.pdf\n",
    "\n",
    "This case is somewhat more complicated, and it turns out to be simpler if we rewrite the likelihood function in terms of $\\Sigma^{-1}$, and take the derivate wrt $\\Sigma^{-1}$ as well.\n",
    "\n",
    "We know that:\n",
    "$$\n",
    "|A^{-1}| = \\frac{1}{|A|}\n",
    "$$\n",
    "\n",
    "and so:\n",
    "\n",
    "$$\n",
    "L = \\sum^n \\log(\\frac{1}{(2\\pi)^\\frac{d}{2} |\\Sigma|^\\frac{1}{2}}) - \\frac{1}{2} (x - \\mu)^T \\Sigma^{-1} (x - \\mu) \\Rightarrow \\\\\n",
    "\\Rightarrow \\sum^n \\log(\\frac{1}{(2\\pi)^\\frac{d}{2} (\\frac{1}{|\\Sigma^{-1}|})^\\frac{1}{2}}) - \\frac{1}{2} (x - \\mu)^T \\Sigma^{-1} (x - \\mu) \\Rightarrow\n",
    "$$\n",
    "\n",
    "The first term of the formula is derived using the standard rules of derivation, plus (from the cookbook):\n",
    "\n",
    "$$\n",
    "\\frac{\\partial |A|}{\\partial A} = |A| (A^{-1})^T\n",
    "$$\n",
    "\n",
    "For the second term, from the cookbook we know that:\n",
    "\n",
    "$$\n",
    "\\frac{\\partial x^t A x}{\\partial A} = xx^T\n",
    "$$\n",
    "\n",
    "$$\n",
    "\\frac{\\partial{L}}{\\partial{\\Sigma^{-1}}} = 0 \\Rightarrow \\\\\n",
    "\\Rightarrow \\sum^n (2\\pi)^\\frac{d}{2} (\\frac{1}{|\\Sigma^{-1}|})^\\frac{1}{2} (-1) \\frac{1}{((2\\pi)^\\frac{d}{2})^2} |\\Sigma^{-1}| (2\\pi)^\\frac{d}{2} \\frac{1}{2} (\\frac{1}{|\\Sigma^{-1}|})^\\frac{-1}{2} (-1) \\frac{1}{(|\\Sigma^{-1}|)^2} |\\Sigma^{-1}| \\Sigma^T - \\sum^n \\frac{1}{2} (x_i - \\mu) (x_i - \\mu)^T = 0 \\Rightarrow \\\\\n",
    "\\Rightarrow \\frac{n}{2} \\Sigma^T - \\sum^n \\frac{1}{2} (x_i - \\mu) (x_i - \\mu)^T = 0 \\Rightarrow \\\\\n",
    "\\Rightarrow \\frac{n}{2} \\Sigma = \\sum^n \\frac{1}{2} (x_i - \\mu) (x_i - \\mu)^T \\Rightarrow \\\\\n",
    "\\Rightarrow \\Sigma = \\frac{1}{n} \\sum^n (x_i - \\mu) (x_i - \\mu)^T\n",
    "$$"
   ]
  },
  {
   "cell_type": "code",
   "execution_count": 1,
   "metadata": {
    "collapsed": true
   },
   "outputs": [],
   "source": [
    "%matplotlib inline\n",
    "import numpy as np\n",
    "import matplotlib.pyplot as plt\n",
    "import seaborn as sb\n",
    "\n",
    "mu = [.9, .0]\n",
    "sigma = np.matrix([[1., 0.2],[.2, .5]])\n",
    "\n",
    "n_samples = 1000\n",
    "\n",
    "y = np.random.multivariate_normal(mu, sigma, n_samples)"
   ]
  },
  {
   "cell_type": "code",
   "execution_count": 2,
   "metadata": {},
   "outputs": [
    {
     "data": {
      "image/png": "[encoded data removed]",
      "text/plain": [
       "<matplotlib.figure.Figure at 0x7ff77011df60>"
      ]
     },
     "metadata": {},
     "output_type": "display_data"
    }
   ],
   "source": [
    "plt.scatter(y[:,0], y[:,1])\n",
    "plt.ylim((-3,3))\n",
    "plt.xlim((-4,5))\n",
    "plt.show()"
   ]
  },
  {
   "cell_type": "code",
   "execution_count": 3,
   "metadata": {},
   "outputs": [
    {
     "data": {
      "text/plain": [
       "array([ 0.86186754, -0.0123602 ])"
      ]
     },
     "execution_count": 3,
     "metadata": {},
     "output_type": "execute_result"
    }
   ],
   "source": [
    "np.mean(y, axis=0)"
   ]
  },
  {
   "cell_type": "code",
   "execution_count": 4,
   "metadata": {},
   "outputs": [
    {
     "data": {
      "text/plain": [
       "array([[ 1.71612264,  0.18627172],\n",
       "       [ 0.18627172,  0.4794422 ]])"
      ]
     },
     "execution_count": 4,
     "metadata": {},
     "output_type": "execute_result"
    }
   ],
   "source": [
    "np.divide(np.dot(y.T,y), y.shape[0])"
   ]
  }
 ],
 "metadata": {
  "kernelspec": {
   "display_name": "Python 3",
   "language": "python",
   "name": "python3"
  },
  "language_info": {
   "codemirror_mode": {
    "name": "ipython",
    "version": 3
   },
   "file_extension": ".py",
   "mimetype": "text/x-python",
   "name": "python",
   "nbconvert_exporter": "python",
   "pygments_lexer": "ipython3",
   "version": "3.5.2"
  }
 },
 "nbformat": 4,
 "nbformat_minor": 2
}
