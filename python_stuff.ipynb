{
 "cells": [
  {
   "cell_type": "markdown",
   "metadata": {},
   "source": [
    "# Python stuff\n",
    "\n",
    "Some Python stuff Ive seen previously and Im saving here for potential future reference."
   ]
  },
  {
   "cell_type": "markdown",
   "metadata": {},
   "source": [
    "## Local variable scoping\n",
    "\n",
    "While in scoping Python looks for a variable in the following order: local, global, builtin; and that will allow us to use a variable that was not defined in the local scope, we have to remember that any assignment is a new variable creation (appending, for instance, is not an assignment):"
   ]
  },
  {
   "cell_type": "code",
   "execution_count": 3,
   "metadata": {},
   "outputs": [
    {
     "name": "stdout",
     "output_type": "stream",
     "text": [
      "11\n"
     ]
    }
   ],
   "source": [
    "# working example\n",
    "a = 0\n",
    "\n",
    "def print_a_b_c(b: int):\n",
    "    c = 10\n",
    "    print(a+b+c)\n",
    "\n",
    "print_a_b_c(1)"
   ]
  },
  {
   "cell_type": "code",
   "execution_count": 35,
   "metadata": {},
   "outputs": [
    {
     "ename": "UnboundLocalError",
     "evalue": "local variable 'a' referenced before assignment",
     "output_type": "error",
     "traceback": [
      "\u001b[0;31m---------------------------------------------------------------------------\u001b[0m",
      "\u001b[0;31mUnboundLocalError\u001b[0m                         Traceback (most recent call last)",
      "\u001b[0;32m<ipython-input-35-6d09114267a2>\u001b[0m in \u001b[0;36m<module>\u001b[0;34m()\u001b[0m\n\u001b[1;32m      6\u001b[0m     \u001b[0mprint\u001b[0m\u001b[0;34m(\u001b[0m\u001b[0ma\u001b[0m\u001b[0;34m+\u001b[0m\u001b[0mb\u001b[0m\u001b[0;34m)\u001b[0m\u001b[0;34m\u001b[0m\u001b[0m\n\u001b[1;32m      7\u001b[0m \u001b[0;34m\u001b[0m\u001b[0m\n\u001b[0;32m----> 8\u001b[0;31m \u001b[0mprint_a_b\u001b[0m\u001b[0;34m(\u001b[0m\u001b[0;36m1\u001b[0m\u001b[0;34m)\u001b[0m\u001b[0;34m\u001b[0m\u001b[0m\n\u001b[0m",
      "\u001b[0;32m<ipython-input-35-6d09114267a2>\u001b[0m in \u001b[0;36mprint_a_b\u001b[0;34m(b)\u001b[0m\n\u001b[1;32m      3\u001b[0m \u001b[0;34m\u001b[0m\u001b[0m\n\u001b[1;32m      4\u001b[0m \u001b[0;32mdef\u001b[0m \u001b[0mprint_a_b\u001b[0m\u001b[0;34m(\u001b[0m\u001b[0mb\u001b[0m\u001b[0;34m:\u001b[0m \u001b[0mint\u001b[0m\u001b[0;34m)\u001b[0m\u001b[0;34m:\u001b[0m\u001b[0;34m\u001b[0m\u001b[0m\n\u001b[0;32m----> 5\u001b[0;31m     \u001b[0ma\u001b[0m \u001b[0;34m+=\u001b[0m \u001b[0;36m1\u001b[0m \u001b[0;31m#this assignation causes Python to treat this var as a local var.\u001b[0m\u001b[0;34m\u001b[0m\u001b[0m\n\u001b[0m\u001b[1;32m      6\u001b[0m     \u001b[0mprint\u001b[0m\u001b[0;34m(\u001b[0m\u001b[0ma\u001b[0m\u001b[0;34m+\u001b[0m\u001b[0mb\u001b[0m\u001b[0;34m)\u001b[0m\u001b[0;34m\u001b[0m\u001b[0m\n\u001b[1;32m      7\u001b[0m \u001b[0;34m\u001b[0m\u001b[0m\n",
      "\u001b[0;31mUnboundLocalError\u001b[0m: local variable 'a' referenced before assignment"
     ]
    }
   ],
   "source": [
    "# non-working example\n",
    "a = 0\n",
    "\n",
    "def print_a_b(b: int):\n",
    "    a += 1 #this assignation causes Python to treat this var as a local var.\n",
    "    print(a+b)\n",
    "\n",
    "print_a_b(1)"
   ]
  },
  {
   "cell_type": "markdown",
   "metadata": {},
   "source": [
    "What happened in the previous example, is that the assignation of the var _a_ causes Python to give it a local scope at compilation time. Following this reasoning, when at runtime we try printing _a_, it raises an _undefined_ error.\n",
    "\n",
    "If the variable _a_ had a binding context, which does not have in this notebook, I could use the keywork __nonlocal__ inside the function, to tell Python not to treat it as a local var. (In this case, I could use the __global__ keyword, but remember the existence of __nonlocal__ too)"
   ]
  },
  {
   "cell_type": "markdown",
   "metadata": {},
   "source": [
    "## Module import\n",
    "\n",
    "Whereas in other languages, like Java, importing is used just as a reference to tell the compiler that we are going to use whatever is inside that module, in Python when we import a module, we also execute whats inside of it."
   ]
  },
  {
   "cell_type": "markdown",
   "metadata": {},
   "source": [
    "## Decorators and compilation\n",
    "\n",
    "When we import a module that contains a function definition is imported, this function does not get executed (Python does execute the signature, though).\n",
    "\n",
    "But, when a module that contains a decorator definition is imported, then the decorator will actually run! (#TODO: show this)"
   ]
  },
  {
   "cell_type": "code",
   "execution_count": 45,
   "metadata": {},
   "outputs": [
    {
     "name": "stdout",
     "output_type": "stream",
     "text": [
      "Im decorating the function \"print_a\"\n",
      "This is the value of the var a: 10\n"
     ]
    }
   ],
   "source": [
    "def decorator(func):\n",
    "    def wrapper(*args, **kwargs):\n",
    "        print('Im decorating the function \"%s\"' % func.__name__)\n",
    "        func(*args, **kwargs)\n",
    "    \n",
    "    return wrapper\n",
    "\n",
    "@decorator\n",
    "def print_a(a: int):\n",
    "    print('This is the value of the var a: %d' % a)\n",
    "\n",
    "print_a(10)"
   ]
  },
  {
   "cell_type": "markdown",
   "metadata": {},
   "source": [
    "## @functools.lru_cache\n",
    "\n",
    "This is a decorator in the standard library. Useful for memoization. Interesting to be looked into."
   ]
  }
 ],
 "metadata": {
  "kernelspec": {
   "display_name": "Python 3",
   "language": "python",
   "name": "python3"
  },
  "language_info": {
   "codemirror_mode": {
    "name": "ipython",
    "version": 3
   },
   "file_extension": ".py",
   "mimetype": "text/x-python",
   "name": "python",
   "nbconvert_exporter": "python",
   "pygments_lexer": "ipython3",
   "version": "3.5.2"
  }
 },
 "nbformat": 4,
 "nbformat_minor": 2
}
