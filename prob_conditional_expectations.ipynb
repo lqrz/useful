{
 "cells": [
  {
   "cell_type": "markdown",
   "metadata": {},
   "source": [
    "# Conditional Expectations"
   ]
  },
  {
   "cell_type": "markdown",
   "metadata": {},
   "source": [
    "There are two types of conditional expectations:\n",
    "1. Conditional expectation given an event: $\\mathbf{E}[X|A]$. That is, given that we know that _A_ ocurred, we compute the new expectation using the conditional probability of _X_ given _A_. This expectation is a number.\n",
    "\n",
    "2. Conditional expectation given a random variable: $\\mathbf{E}[Y|X]$. In this case, we want to get the best predictor of _Y_ using only the information of _X_. This expectation is a function of _X_, and thus, a random variable.\n"
   ]
  },
  {
   "cell_type": "markdown",
   "metadata": {},
   "source": [
    "## Conditional expectation given an event\n",
    "\n",
    "We want to update our expectation computation given that an event _A_ has ocurred. In the definition of the expectation we replace $P(X=x)$ by $P(X=x|A)$:\n",
    "$$\n",
    "\\mathbf{E}[X|A] = \\sum x_i P(X=x_i|A)\n",
    "$$"
   ]
  },
  {
   "cell_type": "markdown",
   "metadata": {},
   "source": [
    "### Law of total expectation\n",
    "\n",
    "The LOTE is useful because it lets use engage in _wishful thinking_ (that is, conditioning on what we wish we knew, we use conditional expectations to get an unconditional one), and apply stategies such as _first-step analysis_ for solving problems.\n",
    "\n",
    "$$\n",
    "\\mathbf{E}[Y] = \\sum \\mathbf{E}[Y|A_i] \\times p(A_i)\n",
    "$$\n",
    "\n",
    "Since every expectation is a probability (recall the _fundamental bridge_), the _Law of total probability_ is a case of the _Law of total expectation_:\n",
    "$$\n",
    "p(Y) = \\mathbf{E}[I_Y] = \\sum \\mathbf{E}[I_Y|A_i] \\times p(A_i) = \\sum p(Y|A_i) \\times p(A_i)\n",
    "$$"
   ]
  }
 ],
 "metadata": {
  "kernelspec": {
   "display_name": "Python 3",
   "language": "python",
   "name": "python3"
  },
  "language_info": {
   "codemirror_mode": {
    "name": "ipython",
    "version": 3
   },
   "file_extension": ".py",
   "mimetype": "text/x-python",
   "name": "python",
   "nbconvert_exporter": "python",
   "pygments_lexer": "ipython3",
   "version": "3.5.2"
  }
 },
 "nbformat": 4,
 "nbformat_minor": 2
}
