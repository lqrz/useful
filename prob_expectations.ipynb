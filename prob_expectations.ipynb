{
 "cells": [
  {
   "cell_type": "markdown",
   "metadata": {},
   "source": [
    "# Expectations"
   ]
  },
  {
   "cell_type": "markdown",
   "metadata": {},
   "source": [
    "## Definition\n",
    "\n",
    "The expected value of a random variable is a way to summarize its distribution. It measures the center of mass of the distribution.\n",
    "\n",
    "Two random variables with the same distribution will have the same expected value, and the converse might not be true.\n",
    "\n",
    "The expected value is a number, it is a constant, cause it is a function of $x$ not $X$ (keep this in mind).\n",
    "\n",
    "Expectations are computed as weighted averages of the support values of the distribution. In the discrete case:\n",
    "$$\n",
    "\\mathbf{E}[X] = \\sum^n x_i P(X=x_i)\n",
    "$$"
   ]
  },
  {
   "cell_type": "markdown",
   "metadata": {},
   "source": [
    "## Linearity\n",
    "\n",
    "Linearity is the most important property of expectations:\n",
    "1. $\\mathbf{E}[cX] = c \\times \\mathbf{E}[X]$\n",
    "2. $\\mathbf{E}[X+Y] = \\mathbf{E}[X] + \\mathbf{E}[Y]$ where X and Y can be either dependent or independent."
   ]
  },
  {
   "cell_type": "markdown",
   "metadata": {},
   "source": [
    "## Fundamental bridge\n",
    "\n",
    "### Indicator random variables\n",
    "\n",
    "Indicator random variables are Bernoulli random variables that indicate the success (1) or failure (0) of an experiment. We denote them as: $I_x$.\n",
    "\n",
    "They are very useful when it comes to computing expectations.\n",
    "\n",
    "### Fundamental bridge\n",
    "\n",
    "The Fundamental bridge, \"bridges\" expectations with probabilities:\n",
    "$$\n",
    "\\mathbf{E}[I_x] = 1 \\times p + 0 \\times (1-p) = p = P(X=1)\n",
    "$$\n",
    "\n",
    "### Example\n",
    "I have a well-shuffled deck of _n_ cards, I'm gonna draw a card and see if it matches its position in the deck. Let X be the number of matches, find $\\mathbf{E}[X]$.\n",
    "\n",
    "X is gonna be the sum of _n_ indicator random variables, and each random variable will have a probability of $P(I_i=1) = \\frac{1}{n}.$ Thus, the expected number of matches is: $\\mathbf{E}[X] = \\mathbf{E}[I_1+...+I_n] = n \\times \\mathbf{E}[I_i] = n \\times P(I_i=1) = n \\times \\frac{1}{n} = 1$\n",
    "\n",
    "__Note__ that we care about the probability of any $I_i$ being a success, that probability will be the same for any _i_, by symmetry. That is not to say that having taken _j_ cards, the probability of the _j+1_ card being a success is $\\frac{1}{n}$.\n"
   ]
  },
  {
   "cell_type": "markdown",
   "metadata": {},
   "source": [
    "## Law of the unconscious statistitian (LOTUS)\n",
    "\n",
    "If we have a random variable $g(X)$ (it is a function of X), we can find its expectation without knowing its distribution. Instead:\n",
    "$$\n",
    "\\mathbf{E}[g(X)] = \\sum g(x_i) P(X=x_i)\n",
    "$$\n",
    "\n",
    "We only use the distribution of X, not the one of $g(X)$."
   ]
  },
  {
   "cell_type": "markdown",
   "metadata": {},
   "source": [
    "# Variances"
   ]
  },
  {
   "cell_type": "markdown",
   "metadata": {},
   "source": [
    "## Definition\n",
    "\n",
    "The variance measures the spread of the distribution.\n",
    "\n",
    "Note that $\\mathbf{E}[(X - \\mathbf{E}[X])]$ is 0, by linearity (the positive and negative terms cancel out). That is why we measure the square of how far away each point is from the mean (in expectation):\n",
    "$$\n",
    "\\mathbf{VAR}[X] = \\mathbf{E}[(X - \\mathbf{E}[X])^2] = \\mathbf{E}[X^2] - (\\mathbf{E}[X])^2\n",
    "$$"
   ]
  },
  {
   "cell_type": "markdown",
   "metadata": {},
   "source": [
    "## Linearity\n",
    "\n",
    "Unlike expectations, variances __are not linear__:\n",
    "1. $\\mathbf{VAR}[cX] = c^2 \\times \\mathbf{VAR}[X]$\n",
    "2. $\\mathbf{VAR}[X+Y] = \\mathbf{VAR}[X] + \\mathbf{VAR}[Y]$ only if X and Y are independent (otherwise we cannot tell)."
   ]
  }
 ],
 "metadata": {
  "kernelspec": {
   "display_name": "Python 3",
   "language": "python",
   "name": "python3"
  },
  "language_info": {
   "codemirror_mode": {
    "name": "ipython",
    "version": 3
   },
   "file_extension": ".py",
   "mimetype": "text/x-python",
   "name": "python",
   "nbconvert_exporter": "python",
   "pygments_lexer": "ipython3",
   "version": "3.5.2"
  }
 },
 "nbformat": 4,
 "nbformat_minor": 2
}
